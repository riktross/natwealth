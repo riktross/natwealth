{
 "cells": [
  {
   "cell_type": "markdown",
   "id": "77fc5416-1391-4321-9011-ce82838c26e8",
   "metadata": {
    "editable": true,
    "slideshow": {
     "slide_type": ""
    },
    "tags": []
   },
   "source": [
    "# Welcome to my blog\n",
    "\n",
    "planetary limits, and economics"
   ]
  },
  {
   "cell_type": "markdown",
   "id": "69a76ce9-66ec-4b10-baaf-e1e6c9df9ce1",
   "metadata": {},
   "source": [
    "IT WORKED"
   ]
  },
  {
   "cell_type": "code",
   "execution_count": 2,
   "id": "df1e56be-1bf7-457e-acab-52f14fda541f",
   "metadata": {
    "editable": true,
    "slideshow": {
     "slide_type": ""
    },
    "tags": []
   },
   "outputs": [],
   "source": [
    "# Show this"
   ]
  },
  {
   "cell_type": "code",
   "execution_count": 2,
   "id": "a3a9f82f-028c-4e6a-9cac-84ed24647f9e",
   "metadata": {
    "editable": true,
    "hide_cell": true,
    "hide_input": true,
    "hide_source": true,
    "slideshow": {
     "slide_type": ""
    },
    "tags": [
     "remove_input"
    ]
   },
   "outputs": [
    {
     "data": {
      "text/plain": [
       "5"
      ]
     },
     "execution_count": 2,
     "metadata": {},
     "output_type": "execute_result"
    }
   ],
   "source": [
    "1+2+2"
   ]
  },
  {
   "cell_type": "markdown",
   "id": "cb17ab83-53eb-4a49-a917-6ccc20d3f500",
   "metadata": {
    "editable": true,
    "slideshow": {
     "slide_type": ""
    },
    "tags": []
   },
   "source": [
    "\\$ \n",
    "1 \\neq 2\n",
    "\\$"
   ]
  }
 ],
 "metadata": {
  "front-matter": {
   "date": "2023-12-28",
   "subtitle": "jupyter subtitle",
   "tags": [
    "Test"
   ],
   "title": "AAAAAAAAAAAA"
  },
  "hugo-jupyter": {
   "render-to": "content/post"
  },
  "kernelspec": {
   "display_name": "Python 3 (ipykernel)",
   "language": "python",
   "name": "python3"
  },
  "language_info": {
   "codemirror_mode": {
    "name": "ipython",
    "version": 3
   },
   "file_extension": ".py",
   "mimetype": "text/x-python",
   "name": "python",
   "nbconvert_exporter": "python",
   "pygments_lexer": "ipython3",
   "version": "3.9.12"
  }
 },
 "nbformat": 4,
 "nbformat_minor": 5
}
